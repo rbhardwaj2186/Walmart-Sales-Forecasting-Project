{
 "cells": [
  {
   "cell_type": "markdown",
   "id": "9fd8b5db-313c-46e9-84fc-11c34d3e7732",
   "metadata": {},
   "source": [
    "# Sales Forecasting for Walmart\n",
    "\n",
    "## Project Overview:\n",
    "The goal of this project is to build a predictive model to forecast sales for Walmart stores. By predicting future sales, Walmart can make more informed decisions on inventory management, revenue forecasting, and investment planning. The model will help the company to:\n",
    "\n",
    "- **Determine seasonal demand** and adjust stock levels accordingly.\n",
    "- **Improve financial planning**, positively affecting stock prices and investor perceptions.\n",
    "- **Forecast revenue** and identify potential growth opportunities during high-demand periods like holidays.\n",
    "\n",
    "## Objectives:\n",
    "- **Predict sales** for each store and department.\n",
    "- **Identify seasonal trends** and their impact on sales.\n",
    "- **Analyze the effect of external factors** such as markdowns, holidays, CPI, unemployment, and fuel prices on sales.\n",
    "- **Optimize inventory levels** to prevent stockouts or overstock situations.\n",
    "\n",
    "## Datasets:\n",
    "1. **Features Data**: Contains store-level data such as temperature, fuel prices, markdowns, CPI, and unemployment rates.\n",
    "2. **Stores Data**: Provides information about store types and sizes.\n",
    "3. **Train Data**: Historical sales data for various stores and departments.\n",
    "4. **Test Data**: Data to be used for sales prediction.\n",
    "\n",
    "## Steps:\n",
    "1. Data Understanding and Cleaning\n",
    "2. Exploratory Data Analysis (EDA)\n",
    "3. Feature Engineering\n",
    "4. Model Development (Random Forest, ARIMA, etc.)\n",
    "5. Evaluation and Insights\n",
    "\n",
    "## Metric:\n",
    "The performance of the models will be evaluated using the **Weighted Mean Absolute Error (WMAE)**, with a special focus on holiday sales.\n",
    "\n",
    "---\n",
    "\n"
   ]
  },
  {
   "cell_type": "code",
   "execution_count": 107,
   "id": "e3bf075b-2538-49d4-be9f-becedf740cd2",
   "metadata": {},
   "outputs": [],
   "source": [
    "# Importing the essential libraries\n",
    "import pandas as pd   # For data manipulation and analysis\n",
    "import numpy as np    # For numerical operations and array handling\n",
    "import scipy.stats as stats  # For statistical analysis\n",
    "import matplotlib.pyplot as plt  # For data visualization\n",
    "import seaborn as sns  # For advanced visualization (optional)\n",
    "\n",
    "# Set visualization style\n",
    "sns.set(style=\"whitegrid\")\n",
    "\n",
    "# Additional imports if needed for modeling later\n",
    "from sklearn.model_selection import train_test_split  # For splitting data into training and testing\n",
    "from sklearn.ensemble import RandomForestRegressor  # For regression modeling\n",
    "from statsmodels.tsa.arima.model import ARIMA  # For time series modeling\n",
    "from sklearn.preprocessing import MinMaxScaler\n",
    "from sklearn.metrics import mean_absolute_error\n",
    "from sklearn.model_selection import GridSearchCV"
   ]
  },
  {
   "cell_type": "code",
   "execution_count": 55,
   "id": "68b143af-4eae-4db8-a78f-d508c3e293f7",
   "metadata": {},
   "outputs": [],
   "source": [
    "# Load the CSV files into Pandas DataFrames\n",
    "features_df = pd.read_csv('features.csv')\n",
    "stores_df = pd.read_csv('stores.csv')\n",
    "train_df = pd.read_csv('train.csv')\n",
    "test_df = pd.read_csv('test.csv')"
   ]
  },
  {
   "cell_type": "code",
   "execution_count": 56,
   "id": "18c2b4de-8e9e-4bcb-ae21-ffaa254f71bf",
   "metadata": {},
   "outputs": [
    {
     "name": "stdout",
     "output_type": "stream",
     "text": [
      "Features Data Overview:\n",
      "   Store        Date  Temperature  Fuel_Price  MarkDown1  MarkDown2  \\\n",
      "0      1  2010-02-05        42.31       2.572        NaN        NaN   \n",
      "1      1  2010-02-12        38.51       2.548        NaN        NaN   \n",
      "2      1  2010-02-19        39.93       2.514        NaN        NaN   \n",
      "3      1  2010-02-26        46.63       2.561        NaN        NaN   \n",
      "4      1  2010-03-05        46.50       2.625        NaN        NaN   \n",
      "\n",
      "   MarkDown3  MarkDown4  MarkDown5         CPI  Unemployment  IsHoliday  \n",
      "0        NaN        NaN        NaN  211.096358         8.106      False  \n",
      "1        NaN        NaN        NaN  211.242170         8.106       True  \n",
      "2        NaN        NaN        NaN  211.289143         8.106      False  \n",
      "3        NaN        NaN        NaN  211.319643         8.106      False  \n",
      "4        NaN        NaN        NaN  211.350143         8.106      False  \n",
      "**************************************************\n",
      "Stores Data Overview:\n",
      "   Store Type    Size\n",
      "0      1    A  151315\n",
      "1      2    A  202307\n",
      "2      3    B   37392\n",
      "3      4    A  205863\n",
      "4      5    B   34875\n",
      "**************************************************\n",
      "Train Data Overview:\n",
      "   Store  Dept        Date  Weekly_Sales  IsHoliday\n",
      "0      1     1  2010-02-05      24924.50      False\n",
      "1      1     1  2010-02-12      46039.49       True\n",
      "2      1     1  2010-02-19      41595.55      False\n",
      "3      1     1  2010-02-26      19403.54      False\n",
      "4      1     1  2010-03-05      21827.90      False\n",
      "**************************************************\n",
      "Test Data Overview:\n",
      "   Store  Dept        Date  IsHoliday\n",
      "0      1     1  2012-11-02      False\n",
      "1      1     1  2012-11-09      False\n",
      "2      1     1  2012-11-16      False\n",
      "3      1     1  2012-11-23       True\n",
      "4      1     1  2012-11-30      False\n",
      "**************************************************\n"
     ]
    }
   ],
   "source": [
    "# Confirm the data was loaded correctly by displaying the first few rows\n",
    "separator = ''.join(['*' for _ in range(50)])\n",
    "print(\"Features Data Overview:\")\n",
    "print(features_df.head())\n",
    "print(separator) # Line of stars\n",
    "\n",
    "print(\"Stores Data Overview:\")\n",
    "print(stores_df.head())\n",
    "print(separator)  # Line of stars\n",
    "\n",
    "print(\"Train Data Overview:\")\n",
    "print(train_df.head())\n",
    "print(separator)  # Line of stars\n",
    "\n",
    "print(\"Test Data Overview:\")\n",
    "print(test_df.head())\n",
    "print(separator)  # Line of stars"
   ]
  },
  {
   "cell_type": "code",
   "execution_count": 57,
   "id": "3fa9b267-41f9-4c89-8124-73f45cff6f93",
   "metadata": {},
   "outputs": [
    {
     "name": "stdout",
     "output_type": "stream",
     "text": [
      "Features Data Overview:\n"
     ]
    },
    {
     "data": {
      "text/html": [
       "<div>\n",
       "<style scoped>\n",
       "    .dataframe tbody tr th:only-of-type {\n",
       "        vertical-align: middle;\n",
       "    }\n",
       "\n",
       "    .dataframe tbody tr th {\n",
       "        vertical-align: top;\n",
       "    }\n",
       "\n",
       "    .dataframe thead th {\n",
       "        text-align: right;\n",
       "    }\n",
       "</style>\n",
       "<table border=\"1\" class=\"dataframe\">\n",
       "  <thead>\n",
       "    <tr style=\"text-align: right;\">\n",
       "      <th></th>\n",
       "      <th>Store</th>\n",
       "      <th>Date</th>\n",
       "      <th>Temperature</th>\n",
       "      <th>Fuel_Price</th>\n",
       "      <th>MarkDown1</th>\n",
       "      <th>MarkDown2</th>\n",
       "      <th>MarkDown3</th>\n",
       "      <th>MarkDown4</th>\n",
       "      <th>MarkDown5</th>\n",
       "      <th>CPI</th>\n",
       "      <th>Unemployment</th>\n",
       "      <th>IsHoliday</th>\n",
       "    </tr>\n",
       "  </thead>\n",
       "  <tbody>\n",
       "    <tr>\n",
       "      <th>0</th>\n",
       "      <td>1</td>\n",
       "      <td>2010-02-05</td>\n",
       "      <td>42.31</td>\n",
       "      <td>2.572</td>\n",
       "      <td>NaN</td>\n",
       "      <td>NaN</td>\n",
       "      <td>NaN</td>\n",
       "      <td>NaN</td>\n",
       "      <td>NaN</td>\n",
       "      <td>211.096358</td>\n",
       "      <td>8.106</td>\n",
       "      <td>False</td>\n",
       "    </tr>\n",
       "    <tr>\n",
       "      <th>1</th>\n",
       "      <td>1</td>\n",
       "      <td>2010-02-12</td>\n",
       "      <td>38.51</td>\n",
       "      <td>2.548</td>\n",
       "      <td>NaN</td>\n",
       "      <td>NaN</td>\n",
       "      <td>NaN</td>\n",
       "      <td>NaN</td>\n",
       "      <td>NaN</td>\n",
       "      <td>211.242170</td>\n",
       "      <td>8.106</td>\n",
       "      <td>True</td>\n",
       "    </tr>\n",
       "    <tr>\n",
       "      <th>2</th>\n",
       "      <td>1</td>\n",
       "      <td>2010-02-19</td>\n",
       "      <td>39.93</td>\n",
       "      <td>2.514</td>\n",
       "      <td>NaN</td>\n",
       "      <td>NaN</td>\n",
       "      <td>NaN</td>\n",
       "      <td>NaN</td>\n",
       "      <td>NaN</td>\n",
       "      <td>211.289143</td>\n",
       "      <td>8.106</td>\n",
       "      <td>False</td>\n",
       "    </tr>\n",
       "    <tr>\n",
       "      <th>3</th>\n",
       "      <td>1</td>\n",
       "      <td>2010-02-26</td>\n",
       "      <td>46.63</td>\n",
       "      <td>2.561</td>\n",
       "      <td>NaN</td>\n",
       "      <td>NaN</td>\n",
       "      <td>NaN</td>\n",
       "      <td>NaN</td>\n",
       "      <td>NaN</td>\n",
       "      <td>211.319643</td>\n",
       "      <td>8.106</td>\n",
       "      <td>False</td>\n",
       "    </tr>\n",
       "    <tr>\n",
       "      <th>4</th>\n",
       "      <td>1</td>\n",
       "      <td>2010-03-05</td>\n",
       "      <td>46.50</td>\n",
       "      <td>2.625</td>\n",
       "      <td>NaN</td>\n",
       "      <td>NaN</td>\n",
       "      <td>NaN</td>\n",
       "      <td>NaN</td>\n",
       "      <td>NaN</td>\n",
       "      <td>211.350143</td>\n",
       "      <td>8.106</td>\n",
       "      <td>False</td>\n",
       "    </tr>\n",
       "  </tbody>\n",
       "</table>\n",
       "</div>"
      ],
      "text/plain": [
       "   Store        Date  Temperature  Fuel_Price  MarkDown1  MarkDown2  \\\n",
       "0      1  2010-02-05        42.31       2.572        NaN        NaN   \n",
       "1      1  2010-02-12        38.51       2.548        NaN        NaN   \n",
       "2      1  2010-02-19        39.93       2.514        NaN        NaN   \n",
       "3      1  2010-02-26        46.63       2.561        NaN        NaN   \n",
       "4      1  2010-03-05        46.50       2.625        NaN        NaN   \n",
       "\n",
       "   MarkDown3  MarkDown4  MarkDown5         CPI  Unemployment  IsHoliday  \n",
       "0        NaN        NaN        NaN  211.096358         8.106      False  \n",
       "1        NaN        NaN        NaN  211.242170         8.106       True  \n",
       "2        NaN        NaN        NaN  211.289143         8.106      False  \n",
       "3        NaN        NaN        NaN  211.319643         8.106      False  \n",
       "4        NaN        NaN        NaN  211.350143         8.106      False  "
      ]
     },
     "execution_count": 57,
     "metadata": {},
     "output_type": "execute_result"
    }
   ],
   "source": [
    "# Exploring the structure of features data\n",
    "print(\"Features Data Overview:\")\n",
    "features_df.head()"
   ]
  },
  {
   "cell_type": "code",
   "execution_count": 58,
   "id": "fb5661b5-1225-4e04-9268-f6c38ff76217",
   "metadata": {},
   "outputs": [
    {
     "name": "stdout",
     "output_type": "stream",
     "text": [
      "\n",
      "Summary Statistics of Features Data:\n"
     ]
    },
    {
     "data": {
      "text/html": [
       "<div>\n",
       "<style scoped>\n",
       "    .dataframe tbody tr th:only-of-type {\n",
       "        vertical-align: middle;\n",
       "    }\n",
       "\n",
       "    .dataframe tbody tr th {\n",
       "        vertical-align: top;\n",
       "    }\n",
       "\n",
       "    .dataframe thead th {\n",
       "        text-align: right;\n",
       "    }\n",
       "</style>\n",
       "<table border=\"1\" class=\"dataframe\">\n",
       "  <thead>\n",
       "    <tr style=\"text-align: right;\">\n",
       "      <th></th>\n",
       "      <th>Store</th>\n",
       "      <th>Temperature</th>\n",
       "      <th>Fuel_Price</th>\n",
       "      <th>MarkDown1</th>\n",
       "      <th>MarkDown2</th>\n",
       "      <th>MarkDown3</th>\n",
       "      <th>MarkDown4</th>\n",
       "      <th>MarkDown5</th>\n",
       "      <th>CPI</th>\n",
       "      <th>Unemployment</th>\n",
       "    </tr>\n",
       "  </thead>\n",
       "  <tbody>\n",
       "    <tr>\n",
       "      <th>count</th>\n",
       "      <td>8190.000000</td>\n",
       "      <td>8190.000000</td>\n",
       "      <td>8190.000000</td>\n",
       "      <td>4032.000000</td>\n",
       "      <td>2921.000000</td>\n",
       "      <td>3613.000000</td>\n",
       "      <td>3464.000000</td>\n",
       "      <td>4050.000000</td>\n",
       "      <td>7605.000000</td>\n",
       "      <td>7605.000000</td>\n",
       "    </tr>\n",
       "    <tr>\n",
       "      <th>mean</th>\n",
       "      <td>23.000000</td>\n",
       "      <td>59.356198</td>\n",
       "      <td>3.405992</td>\n",
       "      <td>7032.371786</td>\n",
       "      <td>3384.176594</td>\n",
       "      <td>1760.100180</td>\n",
       "      <td>3292.935886</td>\n",
       "      <td>4132.216422</td>\n",
       "      <td>172.460809</td>\n",
       "      <td>7.826821</td>\n",
       "    </tr>\n",
       "    <tr>\n",
       "      <th>std</th>\n",
       "      <td>12.987966</td>\n",
       "      <td>18.678607</td>\n",
       "      <td>0.431337</td>\n",
       "      <td>9262.747448</td>\n",
       "      <td>8793.583016</td>\n",
       "      <td>11276.462208</td>\n",
       "      <td>6792.329861</td>\n",
       "      <td>13086.690278</td>\n",
       "      <td>39.738346</td>\n",
       "      <td>1.877259</td>\n",
       "    </tr>\n",
       "    <tr>\n",
       "      <th>min</th>\n",
       "      <td>1.000000</td>\n",
       "      <td>-7.290000</td>\n",
       "      <td>2.472000</td>\n",
       "      <td>-2781.450000</td>\n",
       "      <td>-265.760000</td>\n",
       "      <td>-179.260000</td>\n",
       "      <td>0.220000</td>\n",
       "      <td>-185.170000</td>\n",
       "      <td>126.064000</td>\n",
       "      <td>3.684000</td>\n",
       "    </tr>\n",
       "    <tr>\n",
       "      <th>25%</th>\n",
       "      <td>12.000000</td>\n",
       "      <td>45.902500</td>\n",
       "      <td>3.041000</td>\n",
       "      <td>1577.532500</td>\n",
       "      <td>68.880000</td>\n",
       "      <td>6.600000</td>\n",
       "      <td>304.687500</td>\n",
       "      <td>1440.827500</td>\n",
       "      <td>132.364839</td>\n",
       "      <td>6.634000</td>\n",
       "    </tr>\n",
       "    <tr>\n",
       "      <th>50%</th>\n",
       "      <td>23.000000</td>\n",
       "      <td>60.710000</td>\n",
       "      <td>3.513000</td>\n",
       "      <td>4743.580000</td>\n",
       "      <td>364.570000</td>\n",
       "      <td>36.260000</td>\n",
       "      <td>1176.425000</td>\n",
       "      <td>2727.135000</td>\n",
       "      <td>182.764003</td>\n",
       "      <td>7.806000</td>\n",
       "    </tr>\n",
       "    <tr>\n",
       "      <th>75%</th>\n",
       "      <td>34.000000</td>\n",
       "      <td>73.880000</td>\n",
       "      <td>3.743000</td>\n",
       "      <td>8923.310000</td>\n",
       "      <td>2153.350000</td>\n",
       "      <td>163.150000</td>\n",
       "      <td>3310.007500</td>\n",
       "      <td>4832.555000</td>\n",
       "      <td>213.932412</td>\n",
       "      <td>8.567000</td>\n",
       "    </tr>\n",
       "    <tr>\n",
       "      <th>max</th>\n",
       "      <td>45.000000</td>\n",
       "      <td>101.950000</td>\n",
       "      <td>4.468000</td>\n",
       "      <td>103184.980000</td>\n",
       "      <td>104519.540000</td>\n",
       "      <td>149483.310000</td>\n",
       "      <td>67474.850000</td>\n",
       "      <td>771448.100000</td>\n",
       "      <td>228.976456</td>\n",
       "      <td>14.313000</td>\n",
       "    </tr>\n",
       "  </tbody>\n",
       "</table>\n",
       "</div>"
      ],
      "text/plain": [
       "             Store  Temperature   Fuel_Price      MarkDown1      MarkDown2  \\\n",
       "count  8190.000000  8190.000000  8190.000000    4032.000000    2921.000000   \n",
       "mean     23.000000    59.356198     3.405992    7032.371786    3384.176594   \n",
       "std      12.987966    18.678607     0.431337    9262.747448    8793.583016   \n",
       "min       1.000000    -7.290000     2.472000   -2781.450000    -265.760000   \n",
       "25%      12.000000    45.902500     3.041000    1577.532500      68.880000   \n",
       "50%      23.000000    60.710000     3.513000    4743.580000     364.570000   \n",
       "75%      34.000000    73.880000     3.743000    8923.310000    2153.350000   \n",
       "max      45.000000   101.950000     4.468000  103184.980000  104519.540000   \n",
       "\n",
       "           MarkDown3     MarkDown4      MarkDown5          CPI  Unemployment  \n",
       "count    3613.000000   3464.000000    4050.000000  7605.000000   7605.000000  \n",
       "mean     1760.100180   3292.935886    4132.216422   172.460809      7.826821  \n",
       "std     11276.462208   6792.329861   13086.690278    39.738346      1.877259  \n",
       "min      -179.260000      0.220000    -185.170000   126.064000      3.684000  \n",
       "25%         6.600000    304.687500    1440.827500   132.364839      6.634000  \n",
       "50%        36.260000   1176.425000    2727.135000   182.764003      7.806000  \n",
       "75%       163.150000   3310.007500    4832.555000   213.932412      8.567000  \n",
       "max    149483.310000  67474.850000  771448.100000   228.976456     14.313000  "
      ]
     },
     "execution_count": 58,
     "metadata": {},
     "output_type": "execute_result"
    }
   ],
   "source": [
    "# Summary statistics of the features data\n",
    "print(\"\\nSummary Statistics of Features Data:\")\n",
    "features_df.describe()"
   ]
  },
  {
   "cell_type": "code",
   "execution_count": 59,
   "id": "844be1cf-5555-4d51-908b-856535f0e1c4",
   "metadata": {},
   "outputs": [
    {
     "name": "stdout",
     "output_type": "stream",
     "text": [
      "Shape of Features DataFrame:\n"
     ]
    },
    {
     "data": {
      "text/plain": [
       "(8190, 12)"
      ]
     },
     "execution_count": 59,
     "metadata": {},
     "output_type": "execute_result"
    }
   ],
   "source": [
    "# Check the shape of the features dataframe\n",
    "print(\"Shape of Features DataFrame:\")\n",
    "features_df.shape"
   ]
  },
  {
   "cell_type": "code",
   "execution_count": 60,
   "id": "3eff9a94-47c1-42b7-a3cd-57cf566b932b",
   "metadata": {},
   "outputs": [
    {
     "name": "stdout",
     "output_type": "stream",
     "text": [
      "Features Data Information:\n",
      "<class 'pandas.core.frame.DataFrame'>\n",
      "RangeIndex: 8190 entries, 0 to 8189\n",
      "Data columns (total 12 columns):\n",
      " #   Column        Non-Null Count  Dtype  \n",
      "---  ------        --------------  -----  \n",
      " 0   Store         8190 non-null   int64  \n",
      " 1   Date          8190 non-null   object \n",
      " 2   Temperature   8190 non-null   float64\n",
      " 3   Fuel_Price    8190 non-null   float64\n",
      " 4   MarkDown1     4032 non-null   float64\n",
      " 5   MarkDown2     2921 non-null   float64\n",
      " 6   MarkDown3     3613 non-null   float64\n",
      " 7   MarkDown4     3464 non-null   float64\n",
      " 8   MarkDown5     4050 non-null   float64\n",
      " 9   CPI           7605 non-null   float64\n",
      " 10  Unemployment  7605 non-null   float64\n",
      " 11  IsHoliday     8190 non-null   bool   \n",
      "dtypes: bool(1), float64(9), int64(1), object(1)\n",
      "memory usage: 712.0+ KB\n"
     ]
    }
   ],
   "source": [
    "# Check the data types and general information of the features dataset\n",
    "print(\"Features Data Information:\")\n",
    "features_df.info()"
   ]
  },
  {
   "cell_type": "markdown",
   "id": "da754b52-9e50-4775-ab04-fad01a881302",
   "metadata": {},
   "source": [
    "### Data Types Interpretation:\n",
    "\n",
    "- **Store**: Correct as `int64`.\n",
    "- **Date**: Needs conversion from `object` to `datetime`.\n",
    "- **Temperature/Fuel_Price**: Correct as `float64`.\n",
    "- **MarkDown1-5**: These have missing values, and the type is correct as `float64`.\n",
    "- **CPI/Unemployment**: These columns also have missing values, type is correct as `float64`.\n",
    "- **IsHoliday**: Correct as `bool`.\n",
    "\n",
    "Next Steps:\n",
    "- Convert `Date` column to `datetime`.\n",
    "- Handle missing values in `MarkDown1-5`, `CPI`, and `Unemployment`."
   ]
  },
  {
   "cell_type": "code",
   "execution_count": 61,
   "id": "08a464ab-ed3d-41c4-b47b-2a448572a0ca",
   "metadata": {},
   "outputs": [
    {
     "name": "stdout",
     "output_type": "stream",
     "text": [
      "\n",
      "Updated Data Types after Date Conversion:\n",
      "<class 'pandas.core.frame.DataFrame'>\n",
      "RangeIndex: 8190 entries, 0 to 8189\n",
      "Data columns (total 12 columns):\n",
      " #   Column        Non-Null Count  Dtype         \n",
      "---  ------        --------------  -----         \n",
      " 0   Store         8190 non-null   int64         \n",
      " 1   Date          8190 non-null   datetime64[ns]\n",
      " 2   Temperature   8190 non-null   float64       \n",
      " 3   Fuel_Price    8190 non-null   float64       \n",
      " 4   MarkDown1     4032 non-null   float64       \n",
      " 5   MarkDown2     2921 non-null   float64       \n",
      " 6   MarkDown3     3613 non-null   float64       \n",
      " 7   MarkDown4     3464 non-null   float64       \n",
      " 8   MarkDown5     4050 non-null   float64       \n",
      " 9   CPI           7605 non-null   float64       \n",
      " 10  Unemployment  7605 non-null   float64       \n",
      " 11  IsHoliday     8190 non-null   bool          \n",
      "dtypes: bool(1), datetime64[ns](1), float64(9), int64(1)\n",
      "memory usage: 712.0 KB\n"
     ]
    }
   ],
   "source": [
    "features_df['Date'] = pd.to_datetime(features_df['Date'])\n",
    "# Verify the change\n",
    "print(\"\\nUpdated Data Types after Date Conversion:\")\n",
    "features_df.info()"
   ]
  },
  {
   "cell_type": "code",
   "execution_count": 62,
   "id": "72e9122f-80c4-494e-90fe-d9c63f362cc6",
   "metadata": {},
   "outputs": [
    {
     "name": "stdout",
     "output_type": "stream",
     "text": [
      "Columns that need cleaning\n",
      "['MarkDown1', 'MarkDown2', 'MarkDown3', 'MarkDown4', 'MarkDown5', 'CPI', 'Unemployment']\n",
      "   MarkDown1  MarkDown2  MarkDown3  MarkDown4  MarkDown5         CPI  \\\n",
      "0        NaN        NaN        NaN        NaN        NaN  211.096358   \n",
      "1        NaN        NaN        NaN        NaN        NaN  211.242170   \n",
      "2        NaN        NaN        NaN        NaN        NaN  211.289143   \n",
      "3        NaN        NaN        NaN        NaN        NaN  211.319643   \n",
      "4        NaN        NaN        NaN        NaN        NaN  211.350143   \n",
      "\n",
      "   Unemployment  \n",
      "0         8.106  \n",
      "1         8.106  \n",
      "2         8.106  \n",
      "3         8.106  \n",
      "4         8.106  \n"
     ]
    }
   ],
   "source": [
    "# Identify columns with missing values\n",
    "column_to_clean = features_df.columns[features_df.isnull().any()].tolist()\n",
    "\n",
    "# Print the columns that need cleaning\n",
    "print(\"Columns that need cleaning\")\n",
    "print(column_to_clean)\n",
    "# Display the first few rows of the columns that need cleaning\n",
    "print(features_df[column_to_clean].head())"
   ]
  },
  {
   "cell_type": "code",
   "execution_count": 63,
   "id": "dccc63e0-a968-4351-abb1-f1f5cc9593a3",
   "metadata": {},
   "outputs": [
    {
     "data": {
      "text/plain": [
       "Index(['Store', 'Date', 'Temperature', 'Fuel_Price', 'MarkDown1', 'MarkDown2',\n",
       "       'MarkDown3', 'MarkDown4', 'MarkDown5', 'CPI', 'Unemployment',\n",
       "       'IsHoliday'],\n",
       "      dtype='object')"
      ]
     },
     "execution_count": 63,
     "metadata": {},
     "output_type": "execute_result"
    }
   ],
   "source": [
    "features_df.columns"
   ]
  },
  {
   "cell_type": "markdown",
   "id": "4e16aeac-f748-4371-a8c5-bba66a61a1b6",
   "metadata": {},
   "source": [
    "### Handling Missing Values in MarkDown1-5:\n",
    "\n",
    "By grouping by **stores** and **holidays**, we can ensure that the missing values for markdowns are filled more accurately based on **historical promotional patterns** during holidays.\n",
    "\n",
    "### Approach:\n",
    "\n",
    "#### For Holiday Periods:\n",
    "- **Group by Store and IsHoliday**: This allows us to identify patterns in markdowns during holidays for each store.\n",
    "- **Calculate the average markdown** for each store during holiday periods.\n",
    "- **Fill the missing values** with the **average markdown** for that store during holidays. This approach ensures we use historical data to fill in missing values where markdowns were likely applied.\n",
    "\n",
    "#### For Non-Holiday Periods:\n",
    "- **Set the missing values to 0** since no markdowns were likely applied during these periods.\n"
   ]
  },
  {
   "cell_type": "code",
   "execution_count": 64,
   "id": "78238364-cfed-4cb1-9851-3fe212b7bdb6",
   "metadata": {},
   "outputs": [
    {
     "name": "stdout",
     "output_type": "stream",
     "text": [
      "\n",
      "Missing Values after conditionally filling MarkDown columns:\n",
      "MarkDown1    0\n",
      "MarkDown2    0\n",
      "MarkDown3    0\n",
      "MarkDown4    0\n",
      "MarkDown5    0\n",
      "dtype: int64\n"
     ]
    }
   ],
   "source": [
    "# Fill missing MarkDown values conditionally based on IsHoliday\n",
    "for column in ['MarkDown1', 'MarkDown2','MarkDown3', 'MarkDown4','MarkDown5']:\n",
    "    # Fill missing values for holidays with the median markdown value for that store\n",
    "    features_df.loc[features_df['IsHoliday'] == True, column] = features_df[features_df['IsHoliday'] == True].groupby('Store')[column].transform(lambda x: x.fillna(x.median()))\n",
    "\n",
    "    # Fill missing values for non-holidays with 0\n",
    "    features_df.loc[features_df['IsHoliday'] == False, column] = features_df[features_df['IsHoliday'] == False][column].fillna(0)\n",
    "\n",
    "# Verify the filled values\n",
    "print(\"\\nMissing Values after conditionally filling MarkDown columns:\")\n",
    "print(features_df[['MarkDown1', 'MarkDown2', 'MarkDown3', 'MarkDown4', 'MarkDown5']].isnull().sum())"
   ]
  },
  {
   "cell_type": "code",
   "execution_count": 65,
   "id": "0d2c8fdf-8c24-4c3d-9ec2-27ef506b08ab",
   "metadata": {},
   "outputs": [
    {
     "name": "stdout",
     "output_type": "stream",
     "text": [
      "<class 'pandas.core.frame.DataFrame'>\n",
      "RangeIndex: 8190 entries, 0 to 8189\n",
      "Data columns (total 12 columns):\n",
      " #   Column        Non-Null Count  Dtype         \n",
      "---  ------        --------------  -----         \n",
      " 0   Store         8190 non-null   int64         \n",
      " 1   Date          8190 non-null   datetime64[ns]\n",
      " 2   Temperature   8190 non-null   float64       \n",
      " 3   Fuel_Price    8190 non-null   float64       \n",
      " 4   MarkDown1     8190 non-null   float64       \n",
      " 5   MarkDown2     8190 non-null   float64       \n",
      " 6   MarkDown3     8190 non-null   float64       \n",
      " 7   MarkDown4     8190 non-null   float64       \n",
      " 8   MarkDown5     8190 non-null   float64       \n",
      " 9   CPI           7605 non-null   float64       \n",
      " 10  Unemployment  7605 non-null   float64       \n",
      " 11  IsHoliday     8190 non-null   bool          \n",
      "dtypes: bool(1), datetime64[ns](1), float64(9), int64(1)\n",
      "memory usage: 712.0 KB\n"
     ]
    }
   ],
   "source": [
    "features_df.info()"
   ]
  },
  {
   "cell_type": "code",
   "execution_count": 66,
   "id": "c7dbbd8b-50af-4d05-8a1c-610cc3837b27",
   "metadata": {},
   "outputs": [
    {
     "data": {
      "text/html": [
       "<div>\n",
       "<style scoped>\n",
       "    .dataframe tbody tr th:only-of-type {\n",
       "        vertical-align: middle;\n",
       "    }\n",
       "\n",
       "    .dataframe tbody tr th {\n",
       "        vertical-align: top;\n",
       "    }\n",
       "\n",
       "    .dataframe thead th {\n",
       "        text-align: right;\n",
       "    }\n",
       "</style>\n",
       "<table border=\"1\" class=\"dataframe\">\n",
       "  <thead>\n",
       "    <tr style=\"text-align: right;\">\n",
       "      <th></th>\n",
       "      <th>CPI</th>\n",
       "      <th>Unemployment</th>\n",
       "    </tr>\n",
       "  </thead>\n",
       "  <tbody>\n",
       "    <tr>\n",
       "      <th>0</th>\n",
       "      <td>211.096358</td>\n",
       "      <td>8.106</td>\n",
       "    </tr>\n",
       "    <tr>\n",
       "      <th>1</th>\n",
       "      <td>211.242170</td>\n",
       "      <td>8.106</td>\n",
       "    </tr>\n",
       "    <tr>\n",
       "      <th>2</th>\n",
       "      <td>211.289143</td>\n",
       "      <td>8.106</td>\n",
       "    </tr>\n",
       "    <tr>\n",
       "      <th>3</th>\n",
       "      <td>211.319643</td>\n",
       "      <td>8.106</td>\n",
       "    </tr>\n",
       "    <tr>\n",
       "      <th>4</th>\n",
       "      <td>211.350143</td>\n",
       "      <td>8.106</td>\n",
       "    </tr>\n",
       "    <tr>\n",
       "      <th>...</th>\n",
       "      <td>...</td>\n",
       "      <td>...</td>\n",
       "    </tr>\n",
       "    <tr>\n",
       "      <th>8185</th>\n",
       "      <td>NaN</td>\n",
       "      <td>NaN</td>\n",
       "    </tr>\n",
       "    <tr>\n",
       "      <th>8186</th>\n",
       "      <td>NaN</td>\n",
       "      <td>NaN</td>\n",
       "    </tr>\n",
       "    <tr>\n",
       "      <th>8187</th>\n",
       "      <td>NaN</td>\n",
       "      <td>NaN</td>\n",
       "    </tr>\n",
       "    <tr>\n",
       "      <th>8188</th>\n",
       "      <td>NaN</td>\n",
       "      <td>NaN</td>\n",
       "    </tr>\n",
       "    <tr>\n",
       "      <th>8189</th>\n",
       "      <td>NaN</td>\n",
       "      <td>NaN</td>\n",
       "    </tr>\n",
       "  </tbody>\n",
       "</table>\n",
       "<p>8190 rows × 2 columns</p>\n",
       "</div>"
      ],
      "text/plain": [
       "             CPI  Unemployment\n",
       "0     211.096358         8.106\n",
       "1     211.242170         8.106\n",
       "2     211.289143         8.106\n",
       "3     211.319643         8.106\n",
       "4     211.350143         8.106\n",
       "...          ...           ...\n",
       "8185         NaN           NaN\n",
       "8186         NaN           NaN\n",
       "8187         NaN           NaN\n",
       "8188         NaN           NaN\n",
       "8189         NaN           NaN\n",
       "\n",
       "[8190 rows x 2 columns]"
      ]
     },
     "execution_count": 66,
     "metadata": {},
     "output_type": "execute_result"
    }
   ],
   "source": [
    "column_to_clean = ['CPI', 'Unemployment']\n",
    "features_df[column_to_clean]"
   ]
  },
  {
   "cell_type": "markdown",
   "id": "b91402fa-4b01-4777-b04a-3612c24db635",
   "metadata": {},
   "source": [
    "### Intuition for Handling Missing Values in CPI and Unemployment:\n",
    "\n",
    "#### 1. CPI (Consumer Price Index):\n",
    "- **What it represents**: CPI reflects the average change in prices paid by consumers over time for a basket of goods and services.\n",
    "- **Impact on sales**: High CPI indicates inflation, which reduces consumer purchasing power, while low CPI reflects price stability, potentially boosting spending.\n",
    "  \n",
    "**Filling Missing Values for CPI**:\n",
    "- **Assumption**: CPI typically changes gradually and missing values likely represent gaps in the data. \n",
    "- **Action**: We can fill missing CPI values using **forward fill** to propagate the last known value and maintain consistency.\n",
    "\n",
    "#### 2. Unemployment:\n",
    "- **What it represents**: Unemployment shows the percentage of the workforce that is unemployed and actively seeking employment.\n",
    "- **Impact on sales**: Higher unemployment reduces consumer spending, while lower unemployment improves confidence and boosts sales.\n",
    "\n",
    "**Filling Missing Values for Unemployment**:\n",
    "- **Assumption**: Like CPI, unemployment is relatively stable week to week. Missing values can be filled using **forward fill** to maintain a smooth trend over time.\n",
    "  \n",
    "#### Approach:\n",
    "- **Forward Fill** for both CPI and Unemployment: This ensures that we maintain consistent data for these economic indicators, avoiding sudden jumps or drops due to missing values.\n"
   ]
  },
  {
   "cell_type": "code",
   "execution_count": 67,
   "id": "d9fe398b-6146-48e9-ab8a-cc6b856b310b",
   "metadata": {},
   "outputs": [
    {
     "name": "stdout",
     "output_type": "stream",
     "text": [
      "\n",
      "Missing Values after handling CPI and Unemployment:\n",
      "CPI             0\n",
      "Unemployment    0\n",
      "dtype: int64\n"
     ]
    }
   ],
   "source": [
    "# Filling missing values in CPI and Unemployment using forward fill\n",
    "features_df[['CPI', 'Unemployment']] = features_df[['CPI', 'Unemployment']].ffill()\n",
    "\n",
    "# Verify if all missing values are handled\n",
    "print(\"\\nMissing Values after handling CPI and Unemployment:\")\n",
    "print(features_df[['CPI', 'Unemployment']].isnull().sum())"
   ]
  },
  {
   "cell_type": "markdown",
   "id": "15d9521e-e6a1-4506-81ef-170473f98bd4",
   "metadata": {},
   "source": [
    "# Outlier Detection and Basic Exploration"
   ]
  },
  {
   "cell_type": "code",
   "execution_count": 68,
   "id": "92f7f840-822d-4185-90a8-65f36905d335",
   "metadata": {},
   "outputs": [
    {
     "data": {
      "image/png": "[encoded data removed]",
      "text/plain": [
       "<Figure size 1500x1000 with 10 Axes>"
      ]
     },
     "metadata": {},
     "output_type": "display_data"
    }
   ],
   "source": [
    "import math\n",
    "\n",
    "# List of numerical columns to check for outliers\n",
    "numerical_columns = features_df.select_dtypes(include=['float64', 'int64']).columns\n",
    "\n",
    "# Determine the number of rows and columns for subplots based on number of numerical columns\n",
    "n_cols = 3\n",
    "n_rows = math.ceil(len(numerical_columns) / n_cols)\n",
    "\n",
    "# Creating boxplots to detect outliers for each numerical column\n",
    "plt.figure(figsize=(15,10))\n",
    "for i, column in enumerate(numerical_columns, 1):\n",
    "    plt.subplot(n_rows, n_cols, i)\n",
    "    sns.boxplot(x=features_df[column])\n",
    "    plt.title(f\"Boxplot of {column}\")\n",
    "\n",
    "# Show the boxplots\n",
    "plt.tight_layout()\n",
    "plt.show()\n",
    "\n",
    "\n",
    "\n"
   ]
  },
  {
   "cell_type": "markdown",
   "id": "f7751dd5-e20b-4dd4-bebd-4a1e83447991",
   "metadata": {},
   "source": [
    "### Boxplot Interpretation Summary\n",
    "\n",
    "1. **Store**:\n",
    "   - No significant outliers, evenly distributed data.\n",
    "\n",
    "2. **Temperature**:\n",
    "   - Normal distribution, no significant outliers, data clustered between 40-80.\n",
    "\n",
    "3. **Fuel_Price**:\n",
    "   - No extreme values, tightly clustered between 2.75-4.25.\n",
    "\n",
    "4. **MarkDown1 - MarkDown5**:\n",
    "   - Significant outliers present.\n",
    "   - Heavy skew towards lower values with many high outliers.\n",
    "   - Further investigation required to understand exceptional markdowns.\n",
    "\n",
    "5. **CPI (Consumer Price Index)**:\n",
    "   - No significant outliers, evenly distributed between 140-220.\n",
    "\n",
    "6. **Unemployment**:\n",
    "   - Somewhat larger range, but no extreme outliers.\n",
    "\n",
    "#### Key Insights:\n",
    "- Outliers in the `MarkDown` columns suggest potential rare events or errors.\n",
    "- Normalization or transformation may be needed for skewed distributions.\n",
    "- Outliers should be handled carefully during modeling to avoid bias.\n"
   ]
  },
  {
   "cell_type": "markdown",
   "id": "d9e4e7a4-3b90-4ccc-9ad2-c948434eded9",
   "metadata": {},
   "source": [
    "# Outlier Investigation of MarkDown columns"
   ]
  },
  {
   "cell_type": "code",
   "execution_count": 69,
   "id": "248ae7a7-362d-4fd8-a222-c8d8f6e76410",
   "metadata": {},
   "outputs": [
    {
     "data": {
      "image/png": "[encoded data removed]",
      "text/plain": [
       "<Figure size 1500x1000 with 5 Axes>"
      ]
     },
     "metadata": {},
     "output_type": "display_data"
    }
   ],
   "source": [
    "# Plot histograms for the MarkDown columns to further investigate their distributions\n",
    "plt.figure(figsize=(15, 10))\n",
    "\n",
    "for i, column in enumerate(['MarkDown1', 'MarkDown2','MarkDown3', 'MarkDown4','MarkDown5'], 1):\n",
    "    plt.subplot(3, 2, i)\n",
    "    sns.histplot(features_df[column], bins=50, kde=True)\n",
    "    plt.title(f\"Histogram of {column}\")\n",
    "\n",
    "# Show histogram\n",
    "plt.tight_layout()\n",
    "plt.show()"
   ]
  },
  {
   "cell_type": "markdown",
   "id": "516fb544-88a7-4d34-a73b-4c3b55428297",
   "metadata": {},
   "source": [
    "### Histogram Analysis of MarkDown Columns\n",
    "\n",
    "Looking at the histograms, the **MarkDown** columns exhibit a clear **right-skewed distribution** with a long tail. Most values are concentrated near 0, but there are some extreme values (outliers) extending far beyond the majority of the data points. \n",
    "\n",
    "#### Observations:\n",
    "\n",
    "1. **Concentration of Low Values**:  \n",
    "   - The majority of markdown values are small, clustered around 0, indicating markdowns are often low or absent for most entries.\n",
    "\n",
    "2. **Long Tail**:  \n",
    "   - There is a long tail extending to high values, representing the extreme outliers. This confirms that the dataset has a heavy right skew, with a few very large markdown values.\n",
    "\n",
    "3. **Skewness**:  \n",
    "   - The distributions suggest heavy skewness, which could impact the performance of certain models (e.g., linear regression). Consider using transformations (e.g., log transformation) or robust models to account for this skewness.\n"
   ]
  },
  {
   "cell_type": "markdown",
   "id": "800ec183-0076-4dc4-bdc9-4976c8fa45ea",
   "metadata": {},
   "source": [
    "#### **Order of Application**:\n",
    "1. Cap the outliers to limit extreme values.\n",
    "2. Apply log transformation to handle skewness.\n",
    "3. Normalize the data to bring the features onto a similar scale."
   ]
  },
  {
   "cell_type": "code",
   "execution_count": 70,
   "id": "ac279fbf-1ea7-4775-bc82-2c7bc15aed41",
   "metadata": {
    "scrolled": true
   },
   "outputs": [
    {
     "name": "stdout",
     "output_type": "stream",
     "text": [
      "         MarkDown1    MarkDown2    MarkDown3    MarkDown4    MarkDown5\n",
      "count  8190.000000  8190.000000  8190.000000  8190.000000  8190.000000\n",
      "mean      0.438207     0.520170     0.459176     0.344772     0.460531\n",
      "std       0.433155     0.240031     0.267800     0.399254     0.441071\n",
      "min       0.000000     0.000000     0.000000     0.000000     0.000000\n",
      "25%       0.000000     0.346412     0.248872     0.000000     0.000000\n",
      "50%       0.500220     0.346412     0.248872     0.000000     0.713816\n",
      "75%       0.891700     0.745424     0.686760     0.769660     0.888278\n",
      "max       1.000000     1.000000     1.000000     1.000000     1.000000\n"
     ]
    },
    {
     "name": "stderr",
     "output_type": "stream",
     "text": [
      "D:\\Work\\Gre\\UTD\\Courses\\Fall_II\\Python\\Python3_12\\timeseries\\Lib\\site-packages\\pandas\\core\\arraylike.py:399: RuntimeWarning: invalid value encountered in log1p\n",
      "  result = getattr(ufunc, method)(*inputs, **kwargs)\n",
      "C:\\Users\\Asus\\AppData\\Local\\Temp\\ipykernel_4052\\1849454651.py:9: FutureWarning: A value is trying to be set on a copy of a DataFrame or Series through chained assignment using an inplace method.\n",
      "The behavior will change in pandas 3.0. This inplace method will never work because the intermediate object on which we are setting values always behaves as a copy.\n",
      "\n",
      "For example, when doing 'df[col].method(value, inplace=True)', try using 'df.method({col: value}, inplace=True)' or df[col] = df[col].method(value) instead, to perform the operation inplace on the original object.\n",
      "\n",
      "\n",
      "  features_df[column].replace([np.inf, -np.inf], np.nan, inplace=True)    # Replace infinities with NaN\n",
      "C:\\Users\\Asus\\AppData\\Local\\Temp\\ipykernel_4052\\1849454651.py:10: FutureWarning: A value is trying to be set on a copy of a DataFrame or Series through chained assignment using an inplace method.\n",
      "The behavior will change in pandas 3.0. This inplace method will never work because the intermediate object on which we are setting values always behaves as a copy.\n",
      "\n",
      "For example, when doing 'df[col].method(value, inplace=True)', try using 'df.method({col: value}, inplace=True)' or df[col] = df[col].method(value) instead, to perform the operation inplace on the original object.\n",
      "\n",
      "\n",
      "  features_df[column].fillna(0, inplace=True)                             # Replace NaNs back with 0 after transformation\n",
      "D:\\Work\\Gre\\UTD\\Courses\\Fall_II\\Python\\Python3_12\\timeseries\\Lib\\site-packages\\pandas\\core\\arraylike.py:399: RuntimeWarning: divide by zero encountered in log1p\n",
      "  result = getattr(ufunc, method)(*inputs, **kwargs)\n"
     ]
    }
   ],
   "source": [
    "# Step 1: Cap the outliers at the 95th percentile\n",
    "for column in ['MarkDown1', 'MarkDown2', 'MarkDown3', 'MarkDown4', 'MarkDown5']:\n",
    "    cap_value = features_df[column].quantile(0.95)\n",
    "    features_df[column] = features_df[column].clip(upper=cap_value)\n",
    "\n",
    "# Step 2: Apply log transformation (handling zeros and NaNs)\n",
    "for column in ['MarkDown1', 'MarkDown2', 'MarkDown3', 'MarkDown4', 'MarkDown5']:\n",
    "    features_df[column] = np.log1p(features_df[column].replace(0, np.nan))  # Replace 0 with NaN to avoid log(0)\n",
    "    features_df[column].replace([np.inf, -np.inf], np.nan, inplace=True)    # Replace infinities with NaN\n",
    "    features_df[column].fillna(0, inplace=True)                             # Replace NaNs back with 0 after transformation\n",
    "\n",
    "# Step 3: Normalize the features to bring them onto the same scale\n",
    "scaler = MinMaxScaler()\n",
    "features_df[['MarkDown1', 'MarkDown2', 'MarkDown3', 'MarkDown4', 'MarkDown5']] = scaler.fit_transform(features_df[['MarkDown1', 'MarkDown2', 'MarkDown3', 'MarkDown4', 'MarkDown5']])\n",
    "\n",
    "# Verify the transformation\n",
    "print(features_df[['MarkDown1', 'MarkDown2', 'MarkDown3', 'MarkDown4', 'MarkDown5']].describe())\n"
   ]
  },
  {
   "cell_type": "markdown",
   "id": "453388c5-5a62-47df-a67f-d7633aa0c19f",
   "metadata": {},
   "source": [
    "# Revisualize the Boxplots: To confirm that the outliers have been capped and the distributions have been adjusted."
   ]
  },
  {
   "cell_type": "code",
   "execution_count": 71,
   "id": "fa386b8f-2e5d-4a56-9d66-e0d992f5f2d4",
   "metadata": {},
   "outputs": [
    {
     "data": {
      "image/png": "[encoded data removed]",
      "text/plain": [
       "<Figure size 1500x1000 with 5 Axes>"
      ]
     },
     "metadata": {},
     "output_type": "display_data"
    }
   ],
   "source": [
    "# Plot boxplots for the transformed MarkDown columns\n",
    "plt.figure(figsize=(15,10))\n",
    "for i, column in enumerate(['MarkDown1', 'MarkDown2', 'MarkDown3', 'MarkDown4', 'MarkDown5'], 1):\n",
    "    plt.subplot(3, 2, i)\n",
    "    sns.boxplot(x=features_df[column])\n",
    "    plt.title(f\"Boxplot of {column} (Transformed)\")\n",
    "\n",
    "plt.tight_layout()\n",
    "plt.show()"
   ]
  },
  {
   "cell_type": "markdown",
   "id": "99ee63b0-a855-4533-9fa2-fff3932a59bd",
   "metadata": {},
   "source": [
    "# Revisualize the Histograms: To check if the skewness has been reduced by the log transformation."
   ]
  },
  {
   "cell_type": "code",
   "execution_count": 72,
   "id": "cb5156bd-5fb2-4641-8e95-fe5de7d26fc5",
   "metadata": {},
   "outputs": [
    {
     "data": {
      "image/png": "[encoded data removed]",
      "text/plain": [
       "<Figure size 1500x1000 with 5 Axes>"
      ]
     },
     "metadata": {},
     "output_type": "display_data"
    }
   ],
   "source": [
    "# Plot histograms for the transformed MarkDown columns\n",
    "plt.figure(figsize=(15, 10))\n",
    "for i, column in enumerate(['MarkDown1', 'MarkDown2', 'MarkDown3', 'MarkDown4', 'MarkDown5'], 1):\n",
    "    plt.subplot(3, 2, i)\n",
    "    sns.histplot(features_df[column], bins=50, kde=True)\n",
    "    plt.title(f\"Histogram of {column} (Transformed)\")\n",
    "\n",
    "plt.tight_layout()\n",
    "plt.show()\n"
   ]
  },
  {
   "cell_type": "markdown",
   "id": "3a62a4fd-c3d7-4f90-adf5-1adbe65dd861",
   "metadata": {},
   "source": [
    "### Observations:\n",
    "\n",
    "1. **Capping Effect**:  \n",
    "   - The values are now contained within the 0–1 range (due to normalization), and extreme outliers have been reduced.\n",
    "\n",
    "2. **Log Transformation Effect**:  \n",
    "   - Skewness in some columns (e.g., *MarkDown1* and *MarkDown5*) has been reduced, although a few outliers still remain.\n",
    "\n",
    "3. **Normalization Effect**:  \n",
    "   - The columns are now scaled between 0 and 1, making the features ready for modeling, especially for algorithms sensitive to feature scaling.\n"
   ]
  },
  {
   "cell_type": "markdown",
   "id": "5abc6bc1-d03a-423d-876a-cbbad3f6dbaa",
   "metadata": {},
   "source": [
    "# Now we will focus on Second data frame: Stores"
   ]
  },
  {
   "cell_type": "markdown",
   "id": "d8a6460e-aed3-4380-8b42-21e08468ed6c",
   "metadata": {},
   "source": [
    "## Stores Data Overview:\n",
    "\n",
    "    The dataset contains 45 rows and 3 columns:\n",
    "        Store: The store number (integer).\n",
    "        Type: The type of store (A, B, C).\n",
    "        Size: The size of the store in square feet (integer)."
   ]
  },
  {
   "cell_type": "code",
   "execution_count": 73,
   "id": "7344edbf-a509-461e-abba-7b86ba5ea301",
   "metadata": {},
   "outputs": [
    {
     "name": "stdout",
     "output_type": "stream",
     "text": [
      "Stores Data Overview:\n"
     ]
    },
    {
     "data": {
      "text/html": [
       "<div>\n",
       "<style scoped>\n",
       "    .dataframe tbody tr th:only-of-type {\n",
       "        vertical-align: middle;\n",
       "    }\n",
       "\n",
       "    .dataframe tbody tr th {\n",
       "        vertical-align: top;\n",
       "    }\n",
       "\n",
       "    .dataframe thead th {\n",
       "        text-align: right;\n",
       "    }\n",
       "</style>\n",
       "<table border=\"1\" class=\"dataframe\">\n",
       "  <thead>\n",
       "    <tr style=\"text-align: right;\">\n",
       "      <th></th>\n",
       "      <th>Store</th>\n",
       "      <th>Type</th>\n",
       "      <th>Size</th>\n",
       "    </tr>\n",
       "  </thead>\n",
       "  <tbody>\n",
       "    <tr>\n",
       "      <th>0</th>\n",
       "      <td>1</td>\n",
       "      <td>A</td>\n",
       "      <td>151315</td>\n",
       "    </tr>\n",
       "    <tr>\n",
       "      <th>1</th>\n",
       "      <td>2</td>\n",
       "      <td>A</td>\n",
       "      <td>202307</td>\n",
       "    </tr>\n",
       "    <tr>\n",
       "      <th>2</th>\n",
       "      <td>3</td>\n",
       "      <td>B</td>\n",
       "      <td>37392</td>\n",
       "    </tr>\n",
       "    <tr>\n",
       "      <th>3</th>\n",
       "      <td>4</td>\n",
       "      <td>A</td>\n",
       "      <td>205863</td>\n",
       "    </tr>\n",
       "    <tr>\n",
       "      <th>4</th>\n",
       "      <td>5</td>\n",
       "      <td>B</td>\n",
       "      <td>34875</td>\n",
       "    </tr>\n",
       "  </tbody>\n",
       "</table>\n",
       "</div>"
      ],
      "text/plain": [
       "   Store Type    Size\n",
       "0      1    A  151315\n",
       "1      2    A  202307\n",
       "2      3    B   37392\n",
       "3      4    A  205863\n",
       "4      5    B   34875"
      ]
     },
     "execution_count": 73,
     "metadata": {},
     "output_type": "execute_result"
    }
   ],
   "source": [
    "# Display the first few rows of the stores data\n",
    "print(\"Stores Data Overview:\")\n",
    "stores_df.head()\n",
    "\n",
    "\n"
   ]
  },
  {
   "cell_type": "code",
   "execution_count": 74,
   "id": "9973172f-1b58-44c7-af60-d3aaad441a8d",
   "metadata": {},
   "outputs": [
    {
     "name": "stdout",
     "output_type": "stream",
     "text": [
      "\n",
      "Data Types of Stores Data:\n",
      "<class 'pandas.core.frame.DataFrame'>\n",
      "RangeIndex: 45 entries, 0 to 44\n",
      "Data columns (total 3 columns):\n",
      " #   Column  Non-Null Count  Dtype \n",
      "---  ------  --------------  ----- \n",
      " 0   Store   45 non-null     int64 \n",
      " 1   Type    45 non-null     object\n",
      " 2   Size    45 non-null     int64 \n",
      "dtypes: int64(2), object(1)\n",
      "memory usage: 1.2+ KB\n"
     ]
    }
   ],
   "source": [
    "# Check data types of each column\n",
    "print(\"\\nData Types of Stores Data:\")\n",
    "stores_df.info()"
   ]
  },
  {
   "cell_type": "code",
   "execution_count": 75,
   "id": "a94f46a8-4662-487d-840d-09de28d2d4ba",
   "metadata": {},
   "outputs": [
    {
     "name": "stdout",
     "output_type": "stream",
     "text": [
      "\n",
      "Summary Statistics of Stores Data:\n"
     ]
    },
    {
     "data": {
      "text/html": [
       "<div>\n",
       "<style scoped>\n",
       "    .dataframe tbody tr th:only-of-type {\n",
       "        vertical-align: middle;\n",
       "    }\n",
       "\n",
       "    .dataframe tbody tr th {\n",
       "        vertical-align: top;\n",
       "    }\n",
       "\n",
       "    .dataframe thead th {\n",
       "        text-align: right;\n",
       "    }\n",
       "</style>\n",
       "<table border=\"1\" class=\"dataframe\">\n",
       "  <thead>\n",
       "    <tr style=\"text-align: right;\">\n",
       "      <th></th>\n",
       "      <th>Store</th>\n",
       "      <th>Size</th>\n",
       "    </tr>\n",
       "  </thead>\n",
       "  <tbody>\n",
       "    <tr>\n",
       "      <th>count</th>\n",
       "      <td>45.000000</td>\n",
       "      <td>45.000000</td>\n",
       "    </tr>\n",
       "    <tr>\n",
       "      <th>mean</th>\n",
       "      <td>23.000000</td>\n",
       "      <td>130287.600000</td>\n",
       "    </tr>\n",
       "    <tr>\n",
       "      <th>std</th>\n",
       "      <td>13.133926</td>\n",
       "      <td>63825.271991</td>\n",
       "    </tr>\n",
       "    <tr>\n",
       "      <th>min</th>\n",
       "      <td>1.000000</td>\n",
       "      <td>34875.000000</td>\n",
       "    </tr>\n",
       "    <tr>\n",
       "      <th>25%</th>\n",
       "      <td>12.000000</td>\n",
       "      <td>70713.000000</td>\n",
       "    </tr>\n",
       "    <tr>\n",
       "      <th>50%</th>\n",
       "      <td>23.000000</td>\n",
       "      <td>126512.000000</td>\n",
       "    </tr>\n",
       "    <tr>\n",
       "      <th>75%</th>\n",
       "      <td>34.000000</td>\n",
       "      <td>202307.000000</td>\n",
       "    </tr>\n",
       "    <tr>\n",
       "      <th>max</th>\n",
       "      <td>45.000000</td>\n",
       "      <td>219622.000000</td>\n",
       "    </tr>\n",
       "  </tbody>\n",
       "</table>\n",
       "</div>"
      ],
      "text/plain": [
       "           Store           Size\n",
       "count  45.000000      45.000000\n",
       "mean   23.000000  130287.600000\n",
       "std    13.133926   63825.271991\n",
       "min     1.000000   34875.000000\n",
       "25%    12.000000   70713.000000\n",
       "50%    23.000000  126512.000000\n",
       "75%    34.000000  202307.000000\n",
       "max    45.000000  219622.000000"
      ]
     },
     "execution_count": 75,
     "metadata": {},
     "output_type": "execute_result"
    }
   ],
   "source": [
    "# Get summary statistics of numerical columns\n",
    "print(\"\\nSummary Statistics of Stores Data:\")\n",
    "stores_df.describe()"
   ]
  },
  {
   "cell_type": "markdown",
   "id": "d53b1de7-1f80-44e2-b53a-de83a7bb4564",
   "metadata": {},
   "source": [
    "### Summary Statistics:\n",
    "\n",
    "1. **Store Size**:  \n",
    "   - The size of the stores ranges from **34,875 square feet** to **219,622 square feet**, with a mean size of approximately **130,287 square feet**.\n",
    "\n",
    "2. **Store ID**:  \n",
    "   - The *Store* column identifies individual stores, with values ranging from **1 to 45**.\n",
    "\n",
    "3. **Store Type**:  \n",
    "   - The *Type* column categorizes the stores into three types: **A, B, or C**. Since this column is categorical, it doesn't provide numerical statistics.\n"
   ]
  },
  {
   "cell_type": "code",
   "execution_count": 76,
   "id": "1764725d-980a-4e45-8f4b-c47acc6b7d5c",
   "metadata": {},
   "outputs": [
    {
     "name": "stdout",
     "output_type": "stream",
     "text": [
      "\n",
      "Shape of Stores Data:\n"
     ]
    },
    {
     "data": {
      "text/plain": [
       "(45, 3)"
      ]
     },
     "execution_count": 76,
     "metadata": {},
     "output_type": "execute_result"
    }
   ],
   "source": [
    "# Check for missing values\n",
    "print(\"\\nShape of Stores Data:\")\n",
    "stores_df.shape"
   ]
  },
  {
   "cell_type": "code",
   "execution_count": 77,
   "id": "43c7b2d9-34a2-48ec-8c53-658b5080b076",
   "metadata": {},
   "outputs": [
    {
     "name": "stdout",
     "output_type": "stream",
     "text": [
      "\n",
      "Missing Values in Stores Data:\n"
     ]
    },
    {
     "data": {
      "text/plain": [
       "Store    0\n",
       "Type     0\n",
       "Size     0\n",
       "dtype: int64"
      ]
     },
     "execution_count": 77,
     "metadata": {},
     "output_type": "execute_result"
    }
   ],
   "source": [
    "# Check for missing values\n",
    "print(\"\\nMissing Values in Stores Data:\")\n",
    "stores_df.isnull().sum()"
   ]
  },
  {
   "cell_type": "markdown",
   "id": "03367144-2ab9-434a-94d1-cda665784e96",
   "metadata": {},
   "source": [
    "## Visualize Store Types: We can create a bar plot to see the distribution of store types (A, B, C)"
   ]
  },
  {
   "cell_type": "code",
   "execution_count": 78,
   "id": "7b005338-4b73-4884-a380-60a6e8011bf7",
   "metadata": {},
   "outputs": [
    {
     "data": {
      "image/png": "[encoded data removed]",
      "text/plain": [
       "<Figure size 800x500 with 1 Axes>"
      ]
     },
     "metadata": {},
     "output_type": "display_data"
    }
   ],
   "source": [
    "# Plotting the distribution of store types\n",
    "plt.figure(figsize=(8, 5))\n",
    "stores_df['Type'].value_counts().plot(kind='bar', color='skyblue')\n",
    "plt.title('Distribution of Store Types')\n",
    "plt.xlabel('Store Type')\n",
    "plt.ylabel('Number of Stores')\n",
    "plt.xticks(rotation=0)\n",
    "plt.show()"
   ]
  },
  {
   "cell_type": "markdown",
   "id": "26f9d27f-6679-4e2b-83c3-0451d948126c",
   "metadata": {},
   "source": [
    "# Store Type Distribution\n",
    "\n",
    "Here is the bar plot showing the distribution of store types (A, B, C). This visualization helps us understand the count of each store type, which can be useful for further analysis, particularly in examining whether certain types influence seasonal sales.\n"
   ]
  },
  {
   "cell_type": "markdown",
   "id": "99e340e6-8e07-44f2-82dd-3f0eb12bffa8",
   "metadata": {},
   "source": [
    "# Analysing Train Dataset"
   ]
  },
  {
   "cell_type": "code",
   "execution_count": 79,
   "id": "1be527a1-ac49-4da6-a1f1-b56d0a1b087e",
   "metadata": {},
   "outputs": [
    {
     "data": {
      "text/html": [
       "<div>\n",
       "<style scoped>\n",
       "    .dataframe tbody tr th:only-of-type {\n",
       "        vertical-align: middle;\n",
       "    }\n",
       "\n",
       "    .dataframe tbody tr th {\n",
       "        vertical-align: top;\n",
       "    }\n",
       "\n",
       "    .dataframe thead th {\n",
       "        text-align: right;\n",
       "    }\n",
       "</style>\n",
       "<table border=\"1\" class=\"dataframe\">\n",
       "  <thead>\n",
       "    <tr style=\"text-align: right;\">\n",
       "      <th></th>\n",
       "      <th>Store</th>\n",
       "      <th>Dept</th>\n",
       "      <th>Date</th>\n",
       "      <th>Weekly_Sales</th>\n",
       "      <th>IsHoliday</th>\n",
       "    </tr>\n",
       "  </thead>\n",
       "  <tbody>\n",
       "    <tr>\n",
       "      <th>0</th>\n",
       "      <td>1</td>\n",
       "      <td>1</td>\n",
       "      <td>2010-02-05</td>\n",
       "      <td>24924.50</td>\n",
       "      <td>False</td>\n",
       "    </tr>\n",
       "    <tr>\n",
       "      <th>1</th>\n",
       "      <td>1</td>\n",
       "      <td>1</td>\n",
       "      <td>2010-02-12</td>\n",
       "      <td>46039.49</td>\n",
       "      <td>True</td>\n",
       "    </tr>\n",
       "    <tr>\n",
       "      <th>2</th>\n",
       "      <td>1</td>\n",
       "      <td>1</td>\n",
       "      <td>2010-02-19</td>\n",
       "      <td>41595.55</td>\n",
       "      <td>False</td>\n",
       "    </tr>\n",
       "    <tr>\n",
       "      <th>3</th>\n",
       "      <td>1</td>\n",
       "      <td>1</td>\n",
       "      <td>2010-02-26</td>\n",
       "      <td>19403.54</td>\n",
       "      <td>False</td>\n",
       "    </tr>\n",
       "    <tr>\n",
       "      <th>4</th>\n",
       "      <td>1</td>\n",
       "      <td>1</td>\n",
       "      <td>2010-03-05</td>\n",
       "      <td>21827.90</td>\n",
       "      <td>False</td>\n",
       "    </tr>\n",
       "  </tbody>\n",
       "</table>\n",
       "</div>"
      ],
      "text/plain": [
       "   Store  Dept        Date  Weekly_Sales  IsHoliday\n",
       "0      1     1  2010-02-05      24924.50      False\n",
       "1      1     1  2010-02-12      46039.49       True\n",
       "2      1     1  2010-02-19      41595.55      False\n",
       "3      1     1  2010-02-26      19403.54      False\n",
       "4      1     1  2010-03-05      21827.90      False"
      ]
     },
     "execution_count": 79,
     "metadata": {},
     "output_type": "execute_result"
    }
   ],
   "source": [
    "train_df.head()"
   ]
  },
  {
   "cell_type": "code",
   "execution_count": 80,
   "id": "2e44ddeb-e0e3-40f7-8aaa-b988f20a1063",
   "metadata": {},
   "outputs": [
    {
     "name": "stdout",
     "output_type": "stream",
     "text": [
      "Basic Info for `train.csv`:\n",
      "<class 'pandas.core.frame.DataFrame'>\n",
      "RangeIndex: 421570 entries, 0 to 421569\n",
      "Data columns (total 5 columns):\n",
      " #   Column        Non-Null Count   Dtype  \n",
      "---  ------        --------------   -----  \n",
      " 0   Store         421570 non-null  int64  \n",
      " 1   Dept          421570 non-null  int64  \n",
      " 2   Date          421570 non-null  object \n",
      " 3   Weekly_Sales  421570 non-null  float64\n",
      " 4   IsHoliday     421570 non-null  bool   \n",
      "dtypes: bool(1), float64(1), int64(2), object(1)\n",
      "memory usage: 13.3+ MB\n"
     ]
    }
   ],
   "source": [
    "# 1. Basic Information\n",
    "print(\"Basic Info for `train.csv`:\")\n",
    "train_df.info()"
   ]
  },
  {
   "cell_type": "code",
   "execution_count": 81,
   "id": "d22e6bb1-a1bb-4ded-aea5-7fcc73fe28a2",
   "metadata": {},
   "outputs": [
    {
     "name": "stdout",
     "output_type": "stream",
     "text": [
      "Shape of `train.csv`:\n"
     ]
    },
    {
     "data": {
      "text/plain": [
       "(421570, 5)"
      ]
     },
     "execution_count": 81,
     "metadata": {},
     "output_type": "execute_result"
    }
   ],
   "source": [
    "# 2. Shape of the dataframe\n",
    "print(\"Shape of `train.csv`:\")\n",
    "train_df.shape"
   ]
  },
  {
   "cell_type": "code",
   "execution_count": 82,
   "id": "b7051070-1ebb-4073-bfc7-e0876f29167f",
   "metadata": {},
   "outputs": [
    {
     "name": "stdout",
     "output_type": "stream",
     "text": [
      "\n",
      "Missing Values in `train.csv`:\n"
     ]
    },
    {
     "data": {
      "text/plain": [
       "Store           0\n",
       "Dept            0\n",
       "Date            0\n",
       "Weekly_Sales    0\n",
       "IsHoliday       0\n",
       "dtype: int64"
      ]
     },
     "execution_count": 82,
     "metadata": {},
     "output_type": "execute_result"
    }
   ],
   "source": [
    "# 3. Missing Values\n",
    "print(\"\\nMissing Values in `train.csv`:\")\n",
    "missing_values = train_df.isnull().sum()\n",
    "missing_values"
   ]
  },
  {
   "cell_type": "code",
   "execution_count": 83,
   "id": "607a1393-aebd-43b4-9e9f-3fc0bd238d6c",
   "metadata": {},
   "outputs": [],
   "source": [
    "# 4. Changing Date type to Pandas Date DataFrame\n",
    "train_df['Date'] = pd.to_datetime(train_df['Date'])"
   ]
  },
  {
   "cell_type": "code",
   "execution_count": 84,
   "id": "ea3538a4-57aa-4c1f-b7c5-6a10541de690",
   "metadata": {},
   "outputs": [
    {
     "name": "stdout",
     "output_type": "stream",
     "text": [
      "Basic Info for `train.csv`:\n",
      "<class 'pandas.core.frame.DataFrame'>\n",
      "RangeIndex: 421570 entries, 0 to 421569\n",
      "Data columns (total 5 columns):\n",
      " #   Column        Non-Null Count   Dtype         \n",
      "---  ------        --------------   -----         \n",
      " 0   Store         421570 non-null  int64         \n",
      " 1   Dept          421570 non-null  int64         \n",
      " 2   Date          421570 non-null  datetime64[ns]\n",
      " 3   Weekly_Sales  421570 non-null  float64       \n",
      " 4   IsHoliday     421570 non-null  bool          \n",
      "dtypes: bool(1), datetime64[ns](1), float64(1), int64(2)\n",
      "memory usage: 13.3 MB\n"
     ]
    }
   ],
   "source": [
    "# 5. Basic Information\n",
    "print(\"Basic Info for `train.csv`:\")\n",
    "train_df.info()"
   ]
  },
  {
   "cell_type": "code",
   "execution_count": 85,
   "id": "706d2abc-2305-42f4-ac9c-77e14963a0f8",
   "metadata": {},
   "outputs": [
    {
     "data": {
      "text/html": [
       "<div>\n",
       "<style scoped>\n",
       "    .dataframe tbody tr th:only-of-type {\n",
       "        vertical-align: middle;\n",
       "    }\n",
       "\n",
       "    .dataframe tbody tr th {\n",
       "        vertical-align: top;\n",
       "    }\n",
       "\n",
       "    .dataframe thead th {\n",
       "        text-align: right;\n",
       "    }\n",
       "</style>\n",
       "<table border=\"1\" class=\"dataframe\">\n",
       "  <thead>\n",
       "    <tr style=\"text-align: right;\">\n",
       "      <th></th>\n",
       "      <th>Store</th>\n",
       "      <th>Dept</th>\n",
       "      <th>Date</th>\n",
       "      <th>Weekly_Sales</th>\n",
       "      <th>IsHoliday</th>\n",
       "    </tr>\n",
       "  </thead>\n",
       "  <tbody>\n",
       "    <tr>\n",
       "      <th>0</th>\n",
       "      <td>1</td>\n",
       "      <td>1</td>\n",
       "      <td>2010-02-05</td>\n",
       "      <td>24924.50</td>\n",
       "      <td>False</td>\n",
       "    </tr>\n",
       "    <tr>\n",
       "      <th>1</th>\n",
       "      <td>1</td>\n",
       "      <td>1</td>\n",
       "      <td>2010-02-12</td>\n",
       "      <td>46039.49</td>\n",
       "      <td>True</td>\n",
       "    </tr>\n",
       "    <tr>\n",
       "      <th>2</th>\n",
       "      <td>1</td>\n",
       "      <td>1</td>\n",
       "      <td>2010-02-19</td>\n",
       "      <td>41595.55</td>\n",
       "      <td>False</td>\n",
       "    </tr>\n",
       "    <tr>\n",
       "      <th>3</th>\n",
       "      <td>1</td>\n",
       "      <td>1</td>\n",
       "      <td>2010-02-26</td>\n",
       "      <td>19403.54</td>\n",
       "      <td>False</td>\n",
       "    </tr>\n",
       "    <tr>\n",
       "      <th>4</th>\n",
       "      <td>1</td>\n",
       "      <td>1</td>\n",
       "      <td>2010-03-05</td>\n",
       "      <td>21827.90</td>\n",
       "      <td>False</td>\n",
       "    </tr>\n",
       "  </tbody>\n",
       "</table>\n",
       "</div>"
      ],
      "text/plain": [
       "   Store  Dept       Date  Weekly_Sales  IsHoliday\n",
       "0      1     1 2010-02-05      24924.50      False\n",
       "1      1     1 2010-02-12      46039.49       True\n",
       "2      1     1 2010-02-19      41595.55      False\n",
       "3      1     1 2010-02-26      19403.54      False\n",
       "4      1     1 2010-03-05      21827.90      False"
      ]
     },
     "execution_count": 85,
     "metadata": {},
     "output_type": "execute_result"
    }
   ],
   "source": [
    "train_df.head()"
   ]
  },
  {
   "cell_type": "code",
   "execution_count": 86,
   "id": "03191346-45c0-4480-963f-64e267acdb5c",
   "metadata": {},
   "outputs": [
    {
     "data": {
      "text/html": [
       "<div>\n",
       "<style scoped>\n",
       "    .dataframe tbody tr th:only-of-type {\n",
       "        vertical-align: middle;\n",
       "    }\n",
       "\n",
       "    .dataframe tbody tr th {\n",
       "        vertical-align: top;\n",
       "    }\n",
       "\n",
       "    .dataframe thead th {\n",
       "        text-align: right;\n",
       "    }\n",
       "</style>\n",
       "<table border=\"1\" class=\"dataframe\">\n",
       "  <thead>\n",
       "    <tr style=\"text-align: right;\">\n",
       "      <th></th>\n",
       "      <th>IsHoliday</th>\n",
       "    </tr>\n",
       "  </thead>\n",
       "  <tbody>\n",
       "    <tr>\n",
       "      <th>0</th>\n",
       "      <td>0</td>\n",
       "    </tr>\n",
       "    <tr>\n",
       "      <th>1</th>\n",
       "      <td>1</td>\n",
       "    </tr>\n",
       "    <tr>\n",
       "      <th>2</th>\n",
       "      <td>0</td>\n",
       "    </tr>\n",
       "    <tr>\n",
       "      <th>3</th>\n",
       "      <td>0</td>\n",
       "    </tr>\n",
       "    <tr>\n",
       "      <th>4</th>\n",
       "      <td>0</td>\n",
       "    </tr>\n",
       "  </tbody>\n",
       "</table>\n",
       "</div>"
      ],
      "text/plain": [
       "   IsHoliday\n",
       "0          0\n",
       "1          1\n",
       "2          0\n",
       "3          0\n",
       "4          0"
      ]
     },
     "execution_count": 86,
     "metadata": {},
     "output_type": "execute_result"
    }
   ],
   "source": [
    "# Convert `IsHoliday` from boolean to integer (0 for False, 1 for TTrue)\n",
    "train_df['IsHoliday'] = train_df['IsHoliday'].astype(int)\n",
    "\n",
    "# Confirm the conversion\n",
    "train_df[['IsHoliday']].head()"
   ]
  },
  {
   "cell_type": "markdown",
   "id": "f038b7d7-7265-4a13-838d-d0a6d3b7a28f",
   "metadata": {},
   "source": [
    "# Feature Engineering Code"
   ]
  },
  {
   "cell_type": "code",
   "execution_count": 87,
   "id": "0ff27e41-6c60-44de-a7cf-139c64898ba8",
   "metadata": {},
   "outputs": [
    {
     "data": {
      "text/plain": [
       "['Store', 'Dept', 'Date', 'Weekly_Sales', 'IsHoliday']"
      ]
     },
     "execution_count": 87,
     "metadata": {},
     "output_type": "execute_result"
    }
   ],
   "source": [
    "train_df.columns.tolist()"
   ]
  },
  {
   "cell_type": "code",
   "execution_count": 88,
   "id": "76f8c24c-b8ad-4868-bc02-81a25e8f6300",
   "metadata": {},
   "outputs": [],
   "source": [
    "# Extract data-based features.csv\n",
    "train_df['Year'] = train_df['Date'].dt.year\n",
    "train_df['Month'] = train_df['Date'].dt.month\n",
    "train_df['Year'] = train_df['Date'].dt.isocalendar().week\n",
    "train_df['Year'] = train_df['Date'].dt.quarter\n",
    "train_df['Year'] = train_df['Date'].dt.dayofweek # 0-Monday, 6-Sunday\n"
   ]
  },
  {
   "cell_type": "code",
   "execution_count": 89,
   "id": "cdf12a48-f16c-4cba-8b91-44f6ea86f23a",
   "metadata": {},
   "outputs": [
    {
     "data": {
      "text/plain": [
       "['Store', 'Dept', 'Date', 'Weekly_Sales', 'IsHoliday', 'Year', 'Month']"
      ]
     },
     "execution_count": 89,
     "metadata": {},
     "output_type": "execute_result"
    }
   ],
   "source": [
    "train_df.columns.tolist()"
   ]
  },
  {
   "cell_type": "code",
   "execution_count": 90,
   "id": "cd311e11-f3fb-4ab0-b311-65df0ef8825a",
   "metadata": {},
   "outputs": [
    {
     "name": "stdout",
     "output_type": "stream",
     "text": [
      "<class 'pandas.core.frame.DataFrame'>\n",
      "RangeIndex: 421570 entries, 0 to 421569\n",
      "Data columns (total 7 columns):\n",
      " #   Column        Non-Null Count   Dtype         \n",
      "---  ------        --------------   -----         \n",
      " 0   Store         421570 non-null  int64         \n",
      " 1   Dept          421570 non-null  int64         \n",
      " 2   Date          421570 non-null  datetime64[ns]\n",
      " 3   Weekly_Sales  421570 non-null  float64       \n",
      " 4   IsHoliday     421570 non-null  int32         \n",
      " 5   Year          421570 non-null  int32         \n",
      " 6   Month         421570 non-null  int32         \n",
      "dtypes: datetime64[ns](1), float64(1), int32(3), int64(2)\n",
      "memory usage: 17.7 MB\n"
     ]
    }
   ],
   "source": [
    "train_df.info()"
   ]
  },
  {
   "cell_type": "code",
   "execution_count": 91,
   "id": "01b174c1-6448-4894-99e5-4fbce9e05d82",
   "metadata": {},
   "outputs": [],
   "source": [
    "# Sort by Store, Dept, and Date to prepare for rolling calculations\n",
    "train_df = train_df.sort_values(by=['Store', 'Dept', 'Date'])"
   ]
  },
  {
   "cell_type": "code",
   "execution_count": 53,
   "id": "7a6484fd-cb31-4743-bf51-ad2ad84fdae9",
   "metadata": {},
   "outputs": [],
   "source": [
    "# Create Lagged and rolling average features\n",
    "#train_df['Lag_1_week'] = train_df.groupby(['Store', 'Dept'])['Weekly_Sales'].shift(1)\n",
    "\n",
    "# Similarly, calculate rolling average over the last 4 weeks, shifted by 1 to avoid data leakage\n",
    "#train_df['Rolling_Mean_4_Weeks'] = train_df.groupby(['Store', 'Dept'])['Weekly_Sales'].shift(1).rolling(4).mean()"
   ]
  },
  {
   "cell_type": "code",
   "execution_count": 92,
   "id": "766a4618-80bc-4d6a-96e4-7a2ea9f173d0",
   "metadata": {},
   "outputs": [
    {
     "data": {
      "text/html": [
       "<div>\n",
       "<style scoped>\n",
       "    .dataframe tbody tr th:only-of-type {\n",
       "        vertical-align: middle;\n",
       "    }\n",
       "\n",
       "    .dataframe tbody tr th {\n",
       "        vertical-align: top;\n",
       "    }\n",
       "\n",
       "    .dataframe thead th {\n",
       "        text-align: right;\n",
       "    }\n",
       "</style>\n",
       "<table border=\"1\" class=\"dataframe\">\n",
       "  <thead>\n",
       "    <tr style=\"text-align: right;\">\n",
       "      <th></th>\n",
       "      <th>Store</th>\n",
       "      <th>Dept</th>\n",
       "      <th>Date</th>\n",
       "      <th>Weekly_Sales</th>\n",
       "      <th>IsHoliday</th>\n",
       "      <th>Year</th>\n",
       "      <th>Month</th>\n",
       "    </tr>\n",
       "  </thead>\n",
       "  <tbody>\n",
       "    <tr>\n",
       "      <th>0</th>\n",
       "      <td>1</td>\n",
       "      <td>1</td>\n",
       "      <td>2010-02-05</td>\n",
       "      <td>24924.50</td>\n",
       "      <td>0</td>\n",
       "      <td>4</td>\n",
       "      <td>2</td>\n",
       "    </tr>\n",
       "    <tr>\n",
       "      <th>1</th>\n",
       "      <td>1</td>\n",
       "      <td>1</td>\n",
       "      <td>2010-02-12</td>\n",
       "      <td>46039.49</td>\n",
       "      <td>1</td>\n",
       "      <td>4</td>\n",
       "      <td>2</td>\n",
       "    </tr>\n",
       "    <tr>\n",
       "      <th>2</th>\n",
       "      <td>1</td>\n",
       "      <td>1</td>\n",
       "      <td>2010-02-19</td>\n",
       "      <td>41595.55</td>\n",
       "      <td>0</td>\n",
       "      <td>4</td>\n",
       "      <td>2</td>\n",
       "    </tr>\n",
       "    <tr>\n",
       "      <th>3</th>\n",
       "      <td>1</td>\n",
       "      <td>1</td>\n",
       "      <td>2010-02-26</td>\n",
       "      <td>19403.54</td>\n",
       "      <td>0</td>\n",
       "      <td>4</td>\n",
       "      <td>2</td>\n",
       "    </tr>\n",
       "    <tr>\n",
       "      <th>4</th>\n",
       "      <td>1</td>\n",
       "      <td>1</td>\n",
       "      <td>2010-03-05</td>\n",
       "      <td>21827.90</td>\n",
       "      <td>0</td>\n",
       "      <td>4</td>\n",
       "      <td>3</td>\n",
       "    </tr>\n",
       "  </tbody>\n",
       "</table>\n",
       "</div>"
      ],
      "text/plain": [
       "   Store  Dept       Date  Weekly_Sales  IsHoliday  Year  Month\n",
       "0      1     1 2010-02-05      24924.50          0     4      2\n",
       "1      1     1 2010-02-12      46039.49          1     4      2\n",
       "2      1     1 2010-02-19      41595.55          0     4      2\n",
       "3      1     1 2010-02-26      19403.54          0     4      2\n",
       "4      1     1 2010-03-05      21827.90          0     4      3"
      ]
     },
     "execution_count": 92,
     "metadata": {},
     "output_type": "execute_result"
    }
   ],
   "source": [
    "train_df.head()"
   ]
  },
  {
   "cell_type": "code",
   "execution_count": 93,
   "id": "8a7d904a-a873-42cd-98d8-a2002bd646fd",
   "metadata": {},
   "outputs": [
    {
     "data": {
      "text/html": [
       "<div>\n",
       "<style scoped>\n",
       "    .dataframe tbody tr th:only-of-type {\n",
       "        vertical-align: middle;\n",
       "    }\n",
       "\n",
       "    .dataframe tbody tr th {\n",
       "        vertical-align: top;\n",
       "    }\n",
       "\n",
       "    .dataframe thead th {\n",
       "        text-align: right;\n",
       "    }\n",
       "</style>\n",
       "<table border=\"1\" class=\"dataframe\">\n",
       "  <thead>\n",
       "    <tr style=\"text-align: right;\">\n",
       "      <th></th>\n",
       "      <th>Store</th>\n",
       "      <th>Dept</th>\n",
       "      <th>Date</th>\n",
       "      <th>Weekly_Sales</th>\n",
       "      <th>IsHoliday</th>\n",
       "      <th>Year</th>\n",
       "      <th>Month</th>\n",
       "    </tr>\n",
       "  </thead>\n",
       "  <tbody>\n",
       "    <tr>\n",
       "      <th>421565</th>\n",
       "      <td>45</td>\n",
       "      <td>98</td>\n",
       "      <td>2012-09-28</td>\n",
       "      <td>508.37</td>\n",
       "      <td>0</td>\n",
       "      <td>4</td>\n",
       "      <td>9</td>\n",
       "    </tr>\n",
       "    <tr>\n",
       "      <th>421566</th>\n",
       "      <td>45</td>\n",
       "      <td>98</td>\n",
       "      <td>2012-10-05</td>\n",
       "      <td>628.10</td>\n",
       "      <td>0</td>\n",
       "      <td>4</td>\n",
       "      <td>10</td>\n",
       "    </tr>\n",
       "    <tr>\n",
       "      <th>421567</th>\n",
       "      <td>45</td>\n",
       "      <td>98</td>\n",
       "      <td>2012-10-12</td>\n",
       "      <td>1061.02</td>\n",
       "      <td>0</td>\n",
       "      <td>4</td>\n",
       "      <td>10</td>\n",
       "    </tr>\n",
       "    <tr>\n",
       "      <th>421568</th>\n",
       "      <td>45</td>\n",
       "      <td>98</td>\n",
       "      <td>2012-10-19</td>\n",
       "      <td>760.01</td>\n",
       "      <td>0</td>\n",
       "      <td>4</td>\n",
       "      <td>10</td>\n",
       "    </tr>\n",
       "    <tr>\n",
       "      <th>421569</th>\n",
       "      <td>45</td>\n",
       "      <td>98</td>\n",
       "      <td>2012-10-26</td>\n",
       "      <td>1076.80</td>\n",
       "      <td>0</td>\n",
       "      <td>4</td>\n",
       "      <td>10</td>\n",
       "    </tr>\n",
       "  </tbody>\n",
       "</table>\n",
       "</div>"
      ],
      "text/plain": [
       "        Store  Dept       Date  Weekly_Sales  IsHoliday  Year  Month\n",
       "421565     45    98 2012-09-28        508.37          0     4      9\n",
       "421566     45    98 2012-10-05        628.10          0     4     10\n",
       "421567     45    98 2012-10-12       1061.02          0     4     10\n",
       "421568     45    98 2012-10-19        760.01          0     4     10\n",
       "421569     45    98 2012-10-26       1076.80          0     4     10"
      ]
     },
     "execution_count": 93,
     "metadata": {},
     "output_type": "execute_result"
    }
   ],
   "source": [
    "train_df.tail()"
   ]
  },
  {
   "cell_type": "code",
   "execution_count": 95,
   "id": "f413e827-5cdd-426a-837f-02846fa91375",
   "metadata": {},
   "outputs": [
    {
     "data": {
      "text/plain": [
       "Store           0\n",
       "Dept            0\n",
       "Date            0\n",
       "Weekly_Sales    0\n",
       "IsHoliday       0\n",
       "Year            0\n",
       "Month           0\n",
       "dtype: int64"
      ]
     },
     "execution_count": 95,
     "metadata": {},
     "output_type": "execute_result"
    }
   ],
   "source": [
    "train_df.isnull().sum()"
   ]
  },
  {
   "cell_type": "code",
   "execution_count": 105,
   "id": "dbe61f17-1793-4b11-b818-b866be88d414",
   "metadata": {},
   "outputs": [
    {
     "name": "stdout",
     "output_type": "stream",
     "text": [
      "New Shape of train_data: (371242, 7)\n",
      "New Shape of valid_data: (50328, 7)\n"
     ]
    }
   ],
   "source": [
    "# Split based on a more specific date instead of just the year\n",
    "split_date = '2012-07-01'  # Use July 1st, 2012 as the cutoff date\n",
    "\n",
    "# Create training and validation sets based on the adjusted split date\n",
    "train_data = train_df[train_df['Date'] < split_date].copy()\n",
    "valid_data = train_df[train_df['Date'] >= split_date].copy()\n",
    "\n",
    "# Verify the shapes of train and validation sets\n",
    "print(\"New Shape of train_data:\", train_data.shape)\n",
    "print(\"New Shape of valid_data:\", valid_data.shape)"
   ]
  },
  {
   "cell_type": "markdown",
   "id": "8407999b-d071-4e2f-b428-962882ff169d",
   "metadata": {},
   "source": [
    "# Modeling the data"
   ]
  },
  {
   "cell_type": "markdown",
   "id": "1e1d6233-b822-4c41-b476-b0fb22fbb3f1",
   "metadata": {},
   "source": [
    "With the data prepared and split into training and validation sets, let’s proceed with the modeling phase. We’ll start by training a **Random Forest Regressor** as planned, using the **Weighted Mean Absolute Error (WMAE)** as our evaluation metric, which prioritizes accuracy on holiday periods.\n",
    "\n",
    "### Steps for Modeling\n",
    "\n",
    "1. **Prepare Features and Target**:\n",
    "    - Define the target variable (`Weekly_Sales`) and use the engineered features for training.\n",
    "\n",
    "2. **Train the Model**:\n",
    "    - Use a **Random Forest Regressor**, which is robust to feature scaling and can handle complex relationships.\n",
    "\n",
    "3. **Evaluate the Model Using WMAE**:\n",
    "    - Implement a custom `weighted_mae` function that applies a higher error weight on holiday weeks.\n"
   ]
  },
  {
   "cell_type": "code",
   "execution_count": 106,
   "id": "226e5d21-0bb1-4cc9-8597-4b4d5b17ff72",
   "metadata": {},
   "outputs": [
    {
     "name": "stdout",
     "output_type": "stream",
     "text": [
      "Preparing training and validation sets...\n",
      "\n",
      "Feature columns used for modeling:\n",
      "['Store', 'Dept', 'IsHoliday', 'Year', 'Month']\n",
      "\n",
      "Initializing Random Forest Rregressor with 100 trees...\n",
      "\n",
      "Training the model...\n",
      "\n",
      "Model training complete.\n",
      "\n",
      "Generating predictions on the validation set...\n",
      "\n",
      "Predictions complete. Sample predictions:\n",
      "[16074.44534203 16074.44534203 16074.44534203 16074.44534203\n",
      " 15416.21840146]\n",
      "\n",
      "Calculating Weighted Mean Absolute Error (WMAE)...\n",
      "Weighted Mean Absolute Error (WMAE): 1900.322867788489\n",
      "\n",
      "Additional Metrics:\n",
      "Mean Absolute Error (MAE): 1901.2156278248515\n"
     ]
    }
   ],
   "source": [
    "# Define the target and features for training and validation\n",
    "target = 'Weekly_Sales'\n",
    "features = train_data.drop(columns=['Date', 'Weekly_Sales']) # Remove non-feature columns\n",
    "\n",
    "# Prepare train and validation sets \n",
    "print(\"Preparing training and validation sets...\")\n",
    "X_train = train_data[features.columns]\n",
    "y_train = train_data[target]\n",
    "X_valid = valid_data[features.columns]\n",
    "y_valid = valid_data[target]\n",
    "\n",
    "print(\"\\nFeature columns used for modeling:\")\n",
    "print(features.columns.tolist())\n",
    "\n",
    "# Initialize and train the Random Forest Regressor \n",
    "print(\"\\nInitializing Random Forest Rregressor with 100 trees...\")\n",
    "rf_model = RandomForestRegressor(n_estimators=100, random_state=42)\n",
    "\n",
    "print(\"\\nTraining the model...\")\n",
    "rf_model.fit(X_train, y_train) \n",
    "\n",
    "print(\"\\nModel training complete.\")\n",
    "\n",
    "# Predictions\n",
    "print(\"\\nGenerating predictions on the validation set...\")\n",
    "y_pred = rf_model.predict(X_valid)\n",
    "print(\"\\nPredictions complete. Sample predictions:\")\n",
    "print(y_pred[:5])\n",
    "\n",
    "# Define the Weighted Mean Absolute Error (WMAE) \n",
    "def weighted_mae(y_true, y_pred, is_holiday):\n",
    "    weights = np.where(is_holiday, 5, 1) # Weight of 5 for holidays, 1 otherwise\n",
    "    return np.sum(weights * np.abs(y_true - y_pred)) / np.sum(weights)\n",
    "\n",
    "# Calculate WMAE\n",
    "print(\"\\nCalculating Weighted Mean Absolute Error (WMAE)...\")\n",
    "wmae_score = weighted_mae(y_valid, y_pred, valid_data['IsHoliday'])\n",
    "print(\"Weighted Mean Absolute Error (WMAE):\", wmae_score)\n",
    "\n",
    "# Display additional evaluation metrics\n",
    "mae = mean_absolute_error(y_valid, y_pred)\n",
    "print(\"\\nAdditional Metrics:\")\n",
    "print(\"Mean Absolute Error (MAE):\", mae)\n"
   ]
  },
  {
   "cell_type": "markdown",
   "id": "a8d88602-32b4-41bc-9d21-97149898781e",
   "metadata": {},
   "source": [
    "# Hyperparameter Tuning "
   ]
  },
  {
   "cell_type": "code",
   "execution_count": 109,
   "id": "d11775ae-f66e-4d1b-8dc0-82d6393f29da",
   "metadata": {},
   "outputs": [
    {
     "name": "stdout",
     "output_type": "stream",
     "text": [
      "\n",
      "Starting hyperparameter tuning...\n",
      "Fitting 3 folds for each of 81 candidates, totalling 243 fits\n",
      "Best Parameters found: {'max_depth': 10, 'min_samples_leaf': 4, 'min_samples_split': 10, 'n_estimators': 200}\n",
      "Best MAE from tuning: 11346.52719786122\n"
     ]
    }
   ],
   "source": [
    "# Define the parameter grid \n",
    "param_grid = {\n",
    "    \"n_estimators\": [50, 100, 200],\n",
    "    \"max_depth\": [10, 20, None],\n",
    "    \"min_samples_split\": [2, 5, 10],\n",
    "    \"min_samples_leaf\": [1, 2, 4]\n",
    "}\n",
    "\n",
    "# Initialize Random Forest Regressor \n",
    "rf_model = RandomForestRegressor(random_state=42)\n",
    "\n",
    "# Setup GridSearchCV\n",
    "grid_search = GridSearchCV(estimator=rf_model, param_grid=param_grid, cv=3, scoring='neg_mean_absolute_error', n_jobs=-1, verbose=2)\n",
    "\n",
    "# Fit the grid search to the training data \n",
    "print(\"\\nStarting hyperparameter tuning...\")\n",
    "grid_search.fit(X_train, y_train)\n",
    "\n",
    "# Get the best parameters and the best swmae_score\n",
    "print(\"Best Parameters found:\", grid_search.best_params_)\n",
    "print(\"Best MAE from tuning:\", -grid_search.best_score_)"
   ]
  },
  {
   "cell_type": "markdown",
   "id": "3c52657c-75be-4b14-9f62-8ea25a224376",
   "metadata": {},
   "source": [
    "With the best parameters identified from tuning, let’s proceed by retraining the **Random Forest Regressor** on the full training set and evaluating the model using the **Weighted Mean Absolute Error (WMAE)** on the validation set.\n",
    "\n",
    "### Steps to Complete\n",
    "\n",
    "1. **Retrain the Model**:\n",
    "    - Use the entire `train_data` to fit the Random Forest model with the optimal parameters.\n",
    "\n",
    "2. **Predict on the Validation Set**:\n",
    "    - Generate predictions on `X_valid`.\n",
    "\n",
    "3. **Evaluate with WMAE**:\n",
    "    - Calculate the WMAE to assess the model’s performance, particularly focusing on holiday impacts.\n"
   ]
  },
  {
   "cell_type": "code",
   "execution_count": 110,
   "id": "694b31d3-d073-42b4-a963-55faa9fb6969",
   "metadata": {},
   "outputs": [
    {
     "name": "stdout",
     "output_type": "stream",
     "text": [
      "Retraining model with tuned parameters...\n",
      "Retraining complete.\n",
      "Weighted Mean Absolute Error (WMAE) with Tuned Model: 5711.850490829306\n",
      "Mean Absolute Error (MAE) with Tuned Model: 5652.721466425717\n"
     ]
    }
   ],
   "source": [
    "# Retrain the model with optimal parameters\n",
    "rf_model_tuned = RandomForestRegressor(\n",
    "    max_depth=10, \n",
    "    min_samples_leaf=4, \n",
    "    min_samples_split=10, \n",
    "    n_estimators=200, \n",
    "    random_state=42\n",
    ")\n",
    "print(\"Retraining model with tuned parameters...\")\n",
    "rf_model_tuned.fit(X_train, y_train)\n",
    "print(\"Retraining complete.\")\n",
    "\n",
    "# Generate predictions on the validation set\n",
    "y_pred_tuned = rf_model_tuned.predict(X_valid)\n",
    "\n",
    "# Calculate WMAE on validation set\n",
    "wmae_score_tuned = weighted_mae(y_valid, y_pred_tuned, valid_data['IsHoliday'])\n",
    "print(\"Weighted Mean Absolute Error (WMAE) with Tuned Model:\", wmae_score_tuned)\n",
    "\n",
    "# Optional: Display MAE for additional insight\n",
    "mae_tuned = mean_absolute_error(y_valid, y_pred_tuned)\n",
    "print(\"Mean Absolute Error (MAE) with Tuned Model:\", mae_tuned)\n"
   ]
  },
  {
   "cell_type": "code",
   "execution_count": null,
   "id": "449ece0e-8550-477c-840d-4e31ea7b9d91",
   "metadata": {},
   "outputs": [],
   "source": []
  }
 ],
 "metadata": {
  "kernelspec": {
   "display_name": "Python 3 (ipykernel)",
   "language": "python",
   "name": "python3"
  },
  "language_info": {
   "codemirror_mode": {
    "name": "ipython",
    "version": 3
   },
   "file_extension": ".py",
   "mimetype": "text/x-python",
   "name": "python",
   "nbconvert_exporter": "python",
   "pygments_lexer": "ipython3",
   "version": "3.12.5"
  }
 },
 "nbformat": 4,
 "nbformat_minor": 5
}
